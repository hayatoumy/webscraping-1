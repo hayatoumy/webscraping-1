{
 "cells": [
  {
   "cell_type": "code",
   "execution_count": 1,
   "metadata": {},
   "outputs": [],
   "source": [
    "# Import libaries\n",
    "import pandas as pd\n",
    "from bs4 import BeautifulSoup\n",
    "import requests"
   ]
  },
  {
   "cell_type": "markdown",
   "metadata": {},
   "source": [
    "### Step 1: Create a soup object from the home page"
   ]
  },
  {
   "cell_type": "code",
   "execution_count": 2,
   "metadata": {},
   "outputs": [
    {
     "data": {
      "text/plain": [
       "200"
      ]
     },
     "execution_count": 2,
     "metadata": {},
     "output_type": "execute_result"
    }
   ],
   "source": [
    "url = 'http://chubbygrub.com/'\n",
    "res = requests.get(url)\n",
    "res.status_code"
   ]
  },
  {
   "cell_type": "code",
   "execution_count": 3,
   "metadata": {},
   "outputs": [],
   "source": [
    "soup = BeautifulSoup(res.content, 'lxml')"
   ]
  },
  {
   "cell_type": "markdown",
   "metadata": {},
   "source": [
    "### Step 2: Scrape the home page soup for every restaurant\n",
    "\n",
    "Note: Your best bet is to create a list of dictionaries, one for each restaurant. Each dictionary contains the restaurant's name and slug. The result of your scrape should look something like this:\n",
    "\n",
    "```python\n",
    "restaurants = [\n",
    "    {'name': 'A&W Restaurants', 'slug': 'aw-restaurants'}, \n",
    "    {'name': \"Applebee's\", 'slug': 'applebees'},\n",
    "    ...\n",
    "]\n",
    "```"
   ]
  },
  {
   "cell_type": "code",
   "execution_count": 4,
   "metadata": {},
   "outputs": [],
   "source": [
    "a = soup.find_all('a', {'class' : 'btn btn-lg btn-primary'})\n",
    "names = [ai.text for ai in a]\n",
    "# names"
   ]
  },
  {
   "cell_type": "code",
   "execution_count": 5,
   "metadata": {},
   "outputs": [],
   "source": [
    "slugs = [ai.attrs['href'].replace('/restaurants/','') for ai in a]"
   ]
  },
  {
   "cell_type": "code",
   "execution_count": 6,
   "metadata": {},
   "outputs": [],
   "source": [
    "restaurants = []\n",
    "for k, v in zip(names, slugs):\n",
    "    dictionary = {}\n",
    "    dictionary['name'] = k\n",
    "    dictionary['slugs'] = v\n",
    "    restaurants.append(dictionary)\n",
    "    \n",
    "# restaurants"
   ]
  },
  {
   "cell_type": "markdown",
   "metadata": {},
   "source": [
    "### Step 3: Using the slug, scrape each restaurant's page and create a single list of food dictionaries.\n",
    "\n",
    "Your list of foods should look something like this:\n",
    "```python\n",
    "foods = [\n",
    "    {\n",
    "        'calories': '0',\n",
    "        'carbs': '0',\n",
    "        'category': 'Drinks',\n",
    "        'fat': '0',\n",
    "        'name': 'A&W® Diet Root Beer',\n",
    "        'restaurant': 'A&W Restaurants'\n",
    "    },\n",
    "    {\n",
    "        'calories': '0',\n",
    "        'carbs': '0',\n",
    "        'category': 'Drinks',\n",
    "        'fat': '0',\n",
    "        'name': 'A&W® Diet Root Beer',\n",
    "        'restaurant': 'A&W Restaurants'\n",
    "    },\n",
    "    ...\n",
    "]\n",
    "```\n",
    "\n",
    "**Note**: Remove extra white space from each category"
   ]
  },
  {
   "cell_type": "code",
   "execution_count": 7,
   "metadata": {},
   "outputs": [],
   "source": [
    "base_url = 'http://chubbygrub.com'"
   ]
  },
  {
   "cell_type": "code",
   "execution_count": 8,
   "metadata": {},
   "outputs": [],
   "source": [
    "urls_list = [base_url + ai.attrs['href'] for ai in a]"
   ]
  },
  {
   "cell_type": "code",
   "execution_count": 9,
   "metadata": {},
   "outputs": [],
   "source": [
    "# testing out for one page: \n",
    "url = 'http://chubbygrub.com/restaurants/kfc/'\n",
    "res = requests.get(url)\n",
    "soup = BeautifulSoup(res.content, 'lxml')"
   ]
  },
  {
   "cell_type": "code",
   "execution_count": 10,
   "metadata": {},
   "outputs": [],
   "source": [
    "table = soup.find('table', {'id' : 'items'})"
   ]
  },
  {
   "cell_type": "code",
   "execution_count": 11,
   "metadata": {},
   "outputs": [],
   "source": [
    "food = []\n",
    "for row in table.find_all('tr')[1:]:\n",
    "#     print(row)\n",
    "    items = {}\n",
    "    \n",
    "    items['calories'] = row.find('td', {'itemprop' : 'calories'}).text\n",
    "    items['carbs'] = row.find('td', {'itemprop' : 'carbohydrateContent'}).text\n",
    "    items['category'] = row.find('td', {'class' : 'hidden-xs category-column'}).text.strip()\n",
    "    items['fat'] = row.find('td', {'itemprop' : 'fatContent'}).text\n",
    "    items['name'] = row.find('td', {'itemprop' : 'name'}).text\n",
    "    items['restaurant'] = soup.find('span', {'itemprop' : 'name'}).text\n",
    "    \n",
    "    food.append(items)\n",
    "# food "
   ]
  },
  {
   "cell_type": "code",
   "execution_count": 17,
   "metadata": {},
   "outputs": [],
   "source": [
    "from time import sleep #or import time, then later time.sleep(seconds)"
   ]
  },
  {
   "cell_type": "code",
   "execution_count": 18,
   "metadata": {},
   "outputs": [],
   "source": [
    "food = []\n",
    "for u in urls_list:\n",
    "    res = requests.get(u)\n",
    "    sleep(1)\n",
    "    soup = BeautifulSoup(res.content, 'lxml')\n",
    "    table = soup.find('table', {'id' : 'items'})\n",
    "    \n",
    "    for row in table.find_all('tr')[1:]:\n",
    "        items = {}    \n",
    "        items['calories'] = row.find('td', {'itemprop' : 'calories'}).text\n",
    "        items['carbs'] = row.find('td', {'itemprop' : 'carbohydrateContent'}).text\n",
    "        items['category'] = row.find('td', {'class' : 'hidden-xs category-column'}).text.strip()\n",
    "        items['fat'] = row.find('td', {'itemprop' : 'fatContent'}).text\n",
    "        items['name'] = row.find('td', {'itemprop' : 'name'}).text\n",
    "        items['restaurant'] = soup.find('span', {'itemprop' : 'name'}).text\n",
    "        \n",
    "        food.append(items)"
   ]
  },
  {
   "cell_type": "markdown",
   "metadata": {},
   "source": [
    "### Step 4: Create a pandas DataFrame from your list of foods\n",
    "\n",
    "**Note**: Your DataFrame should have 4,977 rows"
   ]
  },
  {
   "cell_type": "code",
   "execution_count": 19,
   "metadata": {},
   "outputs": [],
   "source": [
    "df = pd.DataFrame(food)"
   ]
  },
  {
   "cell_type": "code",
   "execution_count": 20,
   "metadata": {},
   "outputs": [
    {
     "data": {
      "text/plain": [
       "(4977, 6)"
      ]
     },
     "execution_count": 20,
     "metadata": {},
     "output_type": "execute_result"
    }
   ],
   "source": [
    "df.shape"
   ]
  },
  {
   "cell_type": "code",
   "execution_count": 21,
   "metadata": {},
   "outputs": [
    {
     "data": {
      "text/html": [
       "<div>\n",
       "<style scoped>\n",
       "    .dataframe tbody tr th:only-of-type {\n",
       "        vertical-align: middle;\n",
       "    }\n",
       "\n",
       "    .dataframe tbody tr th {\n",
       "        vertical-align: top;\n",
       "    }\n",
       "\n",
       "    .dataframe thead th {\n",
       "        text-align: right;\n",
       "    }\n",
       "</style>\n",
       "<table border=\"1\" class=\"dataframe\">\n",
       "  <thead>\n",
       "    <tr style=\"text-align: right;\">\n",
       "      <th></th>\n",
       "      <th>calories</th>\n",
       "      <th>carbs</th>\n",
       "      <th>category</th>\n",
       "      <th>fat</th>\n",
       "      <th>name</th>\n",
       "      <th>restaurant</th>\n",
       "    </tr>\n",
       "  </thead>\n",
       "  <tbody>\n",
       "    <tr>\n",
       "      <th>0</th>\n",
       "      <td>0</td>\n",
       "      <td>0</td>\n",
       "      <td>Drinks</td>\n",
       "      <td>0</td>\n",
       "      <td>A&amp;W® Diet Root Beer</td>\n",
       "      <td>A&amp;W Restaurants</td>\n",
       "    </tr>\n",
       "    <tr>\n",
       "      <th>1</th>\n",
       "      <td>0</td>\n",
       "      <td>0</td>\n",
       "      <td>Drinks</td>\n",
       "      <td>0</td>\n",
       "      <td>A&amp;W® Diet Root Beer</td>\n",
       "      <td>A&amp;W Restaurants</td>\n",
       "    </tr>\n",
       "  </tbody>\n",
       "</table>\n",
       "</div>"
      ],
      "text/plain": [
       "  calories carbs category fat                 name       restaurant\n",
       "0        0     0   Drinks   0  A&W® Diet Root Beer  A&W Restaurants\n",
       "1        0     0   Drinks   0  A&W® Diet Root Beer  A&W Restaurants"
      ]
     },
     "execution_count": 21,
     "metadata": {},
     "output_type": "execute_result"
    }
   ],
   "source": [
    "df.head(2)"
   ]
  },
  {
   "cell_type": "markdown",
   "metadata": {},
   "source": [
    "### Step 5: Export to csv\n",
    "\n",
    "**Note:** Don't export the index column from your DataFrame"
   ]
  },
  {
   "cell_type": "code",
   "execution_count": 22,
   "metadata": {},
   "outputs": [
    {
     "data": {
      "text/plain": [
       "'/Users/hayatoumy/Documents/portfolio/webscraping-1'"
      ]
     },
     "execution_count": 22,
     "metadata": {},
     "output_type": "execute_result"
    }
   ],
   "source": [
    "%pwd"
   ]
  },
  {
   "cell_type": "code",
   "execution_count": 23,
   "metadata": {},
   "outputs": [],
   "source": [
    "df.to_csv('food_items.csv', index = False) #if index is true, adds another id column!"
   ]
  }
 ],
 "metadata": {
  "kernelspec": {
   "display_name": "Python 3",
   "language": "python",
   "name": "python3"
  },
  "language_info": {
   "codemirror_mode": {
    "name": "ipython",
    "version": 3
   },
   "file_extension": ".py",
   "mimetype": "text/x-python",
   "name": "python",
   "nbconvert_exporter": "python",
   "pygments_lexer": "ipython3",
   "version": "3.6.8"
  }
 },
 "nbformat": 4,
 "nbformat_minor": 2
}
